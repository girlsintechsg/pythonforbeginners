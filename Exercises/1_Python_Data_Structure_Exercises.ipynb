{
 "cells": [
  {
   "cell_type": "markdown",
   "metadata": {},
   "source": [
    "# 1. Python Data Structure Exercises \n",
    "From the slides, you have learned: <br>\n",
    "1) Variables and Data Types <br>\n",
    "2) List <br>\n",
    "3) Dictionary <br>\n",
    "<br>\n",
    "In this exercise, you will perform some basic common operations for the above data structures. <br>\n",
    "<br>\n",
    "Time to complete: 15 mins"
   ]
  },
  {
   "cell_type": "markdown",
   "metadata": {},
   "source": [
    "### Run a Cell\n",
    "- Select the following cell and click on the `Run` button in the Toolbar to execute. \n",
    "- Run all the cells that you find in sequence.\n",
    "- Python ignores the sentences that starts with # (Hash Tag). These are known as comments."
   ]
  },
  {
   "cell_type": "code",
   "execution_count": 1,
   "metadata": {},
   "outputs": [],
   "source": [
    "# Print Hello Python.\n",
    "print(\"Hello Python!\")"
   ]
  },
  {
   "cell_type": "markdown",
   "metadata": {},
   "source": [
    "### Variables\n",
    "- Variable allows you to store values and reuse it by referencing its name.\n",
    "- Each variable has its own data type. Run the following cell to find out the data type of the variable."
   ]
  },
  {
   "cell_type": "code",
   "execution_count": 2,
   "metadata": {},
   "outputs": [
    {
     "name": "stdout",
     "output_type": "stream",
     "text": [
      "year1_sales is <class 'int'> data type\n"
     ]
    }
   ],
   "source": [
    "year1_sales = 100\n",
    "print(\"year1_sales is\", type(year1_sales), \"data type\")"
   ]
  },
  {
   "cell_type": "markdown",
   "metadata": {},
   "source": [
    "### Data Type Behaviors\n",
    "- Different data type has different behavior.\n",
    "- e.g. When you add two integers, it will sum the values. When you add two strings, it will concatenate the values."
   ]
  },
  {
   "cell_type": "code",
   "execution_count": 3,
   "metadata": {},
   "outputs": [
    {
     "data": {
      "text/plain": [
       "300"
      ]
     },
     "execution_count": 3,
     "metadata": {},
     "output_type": "execute_result"
    }
   ],
   "source": [
    "year1_sales = 100\n",
    "year2_sales = 200\n",
    "year1_sales + year2_sales"
   ]
  },
  {
   "cell_type": "code",
   "execution_count": 4,
   "metadata": {},
   "outputs": [
    {
     "data": {
      "text/plain": [
       "'Hello Python'"
      ]
     },
     "execution_count": 4,
     "metadata": {},
     "output_type": "execute_result"
    }
   ],
   "source": [
    "# You can define string with single quote(') or double quote(\")\n",
    "\"Hello \" + \"Python\""
   ]
  },
  {
   "cell_type": "markdown",
   "metadata": {},
   "source": [
    "### Basic String Manipulation Exercises\n",
    "- Python comes with many useful methods for the String data type. \n",
    "- They are particularly useful when you want to strip the character to clean the data or capitalize or split the string. Following are few examples."
   ]
  },
  {
   "cell_type": "code",
   "execution_count": 5,
   "metadata": {},
   "outputs": [],
   "source": [
    "company_name = \" cIti baNk;   \""
   ]
  },
  {
   "cell_type": "code",
   "execution_count": 6,
   "metadata": {},
   "outputs": [
    {
     "name": "stdout",
     "output_type": "stream",
     "text": [
      "CITI BANK\n"
     ]
    }
   ],
   "source": [
    "# strip() - Return a copy of the string with leading and trailing whitespace removed.\n",
    "# upper() - Return a copy of the string converted to lower case\n",
    "# rstrip([chars]) - Return a copy of the string with trailing whitespace removed.\n",
    "# You can chain the string methods as below.\n",
    "print(company_name.strip().upper().rstrip(';'))"
   ]
  },
  {
   "cell_type": "code",
   "execution_count": 7,
   "metadata": {},
   "outputs": [
    {
     "data": {
      "text/plain": [
       "['Singapore', 'Hong Kong', 'Tokyo', 'Sydney']"
      ]
     },
     "execution_count": 7,
     "metadata": {},
     "output_type": "execute_result"
    }
   ],
   "source": [
    "# split(sep=None) - Return a list of the words, using sep as the delimiter\n",
    "cities = \"Singapore,Hong Kong,Tokyo,Sydney\"\n",
    "cities.split(',')"
   ]
  },
  {
   "cell_type": "markdown",
   "metadata": {},
   "source": [
    "## Exercise 1: List"
   ]
  },
  {
   "cell_type": "markdown",
   "metadata": {},
   "source": [
    "List is the most basic structure in Python. List is a mutable Python object. <br>\n",
    "Suppose you have a list object to record the sales data for 4 years as below. <br>"
   ]
  },
  {
   "cell_type": "code",
   "execution_count": 8,
   "metadata": {},
   "outputs": [],
   "source": [
    "sales_list = [100, 120, 130, 150]"
   ]
  },
  {
   "cell_type": "markdown",
   "metadata": {},
   "source": [
    "### 1.1. Append the `sales_list`  by adding a new element `170`. "
   ]
  },
  {
   "cell_type": "code",
   "execution_count": 9,
   "metadata": {},
   "outputs": [],
   "source": [
    "# Your answer for 1.1. (Hint: Use `list.append(element)`)"
   ]
  },
  {
   "cell_type": "code",
   "execution_count": 10,
   "metadata": {},
   "outputs": [
    {
     "name": "stdout",
     "output_type": "stream",
     "text": [
      "[100, 120, 130, 150, 170]\n"
     ]
    }
   ],
   "source": [
    "print(sales_list)"
   ]
  },
  {
   "cell_type": "markdown",
   "metadata": {},
   "source": [
    "### 1.2. Extend the `sales_list` with `another_sales_list`."
   ]
  },
  {
   "cell_type": "code",
   "execution_count": 11,
   "metadata": {},
   "outputs": [
    {
     "data": {
      "text/plain": [
       "[100, 120, 130, 150, 170, 60, 90, 130]"
      ]
     },
     "execution_count": 11,
     "metadata": {},
     "output_type": "execute_result"
    }
   ],
   "source": [
    "another_sales_list = [60,90,130]\n",
    "\n",
    "# Your answer for 1.2. (Hint: Use `list.extend(new_list)` or list + new_list)"
   ]
  },
  {
   "cell_type": "markdown",
   "metadata": {},
   "source": [
    "### Suppose you have a new list now as below. \n",
    "Run the following cell."
   ]
  },
  {
   "cell_type": "code",
   "execution_count": 12,
   "metadata": {},
   "outputs": [],
   "source": [
    "sales_list = ['year1', 100, 'year2', 120, 'year3', 130, 'year4', 150]"
   ]
  },
  {
   "cell_type": "markdown",
   "metadata": {},
   "source": [
    "### 1.3. Retrieve year2 sales figure which is 120."
   ]
  },
  {
   "cell_type": "code",
   "execution_count": 13,
   "metadata": {},
   "outputs": [
    {
     "data": {
      "text/plain": [
       "120"
      ]
     },
     "execution_count": 13,
     "metadata": {},
     "output_type": "execute_result"
    }
   ],
   "source": [
    "# Your answer for 1.3. (Hint: list[index], List is a zero-based index, starts at 0)"
   ]
  },
  {
   "cell_type": "markdown",
   "metadata": {},
   "source": [
    "### 1.4. Slice `sales_list` to get the result `['year3', 130]`."
   ]
  },
  {
   "cell_type": "code",
   "execution_count": 14,
   "metadata": {},
   "outputs": [
    {
     "data": {
      "text/plain": [
       "['year3', 130]"
      ]
     },
     "execution_count": 14,
     "metadata": {},
     "output_type": "execute_result"
    }
   ],
   "source": [
    "# Your answer for 1.4. \n",
    "# (Hint: 1. list[start_index:stop_index], \n",
    "#        2. stop_index is one larger than the desired index)"
   ]
  },
  {
   "cell_type": "markdown",
   "metadata": {},
   "source": [
    "### 1.5. Get the length of the `sales_list`.\n",
    "`len()` method is use to get the length of a object."
   ]
  },
  {
   "cell_type": "code",
   "execution_count": 15,
   "metadata": {},
   "outputs": [
    {
     "data": {
      "text/plain": [
       "8"
      ]
     },
     "execution_count": 15,
     "metadata": {},
     "output_type": "execute_result"
    }
   ],
   "source": [
    "# Your answer for 1.5. (Hint: len(list))"
   ]
  },
  {
   "cell_type": "markdown",
   "metadata": {},
   "source": [
    "### 1.6. Delete the first 2 elements from `sales_list`."
   ]
  },
  {
   "cell_type": "code",
   "execution_count": 16,
   "metadata": {},
   "outputs": [],
   "source": [
    "sales_list = ['year1', 100, 'year2', 120, 'year3', 130, 'year4', 150]"
   ]
  },
  {
   "cell_type": "code",
   "execution_count": 17,
   "metadata": {},
   "outputs": [],
   "source": [
    "# Your answer for 1.6. (Hint: del(list[index]))"
   ]
  },
  {
   "cell_type": "code",
   "execution_count": 18,
   "metadata": {},
   "outputs": [
    {
     "name": "stdout",
     "output_type": "stream",
     "text": [
      "['year2', 120, 'year3', 130, 'year4', 150]\n"
     ]
    }
   ],
   "source": [
    "print(sales_list)"
   ]
  },
  {
   "cell_type": "markdown",
   "metadata": {},
   "source": [
    "## Exercise 2: Dictionary"
   ]
  },
  {
   "cell_type": "markdown",
   "metadata": {},
   "source": [
    "Unordered, changeable and indexed Python data type with keys and values. <br>\n",
    "Suppose you have a dictionary like below. <br>\n",
    "<b>Note: Run the following cell.</b>"
   ]
  },
  {
   "cell_type": "code",
   "execution_count": 19,
   "metadata": {},
   "outputs": [],
   "source": [
    "population = {'California': 38.3,'Texas': 26.5,'New York': 19.7,'Florida': 19.6,'Illinois': 12.9}"
   ]
  },
  {
   "cell_type": "markdown",
   "metadata": {},
   "source": [
    "### 2.1. Add new element to population with key `Singapore` and value `5.6`."
   ]
  },
  {
   "cell_type": "code",
   "execution_count": 20,
   "metadata": {},
   "outputs": [],
   "source": [
    "# Your answer for 2.1. (Hint: use population['key'] = value)"
   ]
  },
  {
   "cell_type": "code",
   "execution_count": 21,
   "metadata": {},
   "outputs": [
    {
     "name": "stdout",
     "output_type": "stream",
     "text": [
      "{'California': 38.3, 'Texas': 26.5, 'New York': 19.7, 'Florida': 19.6, 'Illinois': 12.9, 'Singapore': 5.6}\n"
     ]
    }
   ],
   "source": [
    "print(population)"
   ]
  },
  {
   "cell_type": "markdown",
   "metadata": {},
   "source": [
    "### 2.2. Get all keys from population dictionary. \n",
    "Use `dict.keys()` to get all the keys from the dictionary"
   ]
  },
  {
   "cell_type": "code",
   "execution_count": 22,
   "metadata": {},
   "outputs": [
    {
     "data": {
      "text/plain": [
       "dict_keys(['California', 'Texas', 'New York', 'Florida', 'Illinois', 'Singapore'])"
      ]
     },
     "execution_count": 22,
     "metadata": {},
     "output_type": "execute_result"
    }
   ],
   "source": [
    "# Your answer for 2.2. (Hint: Use `dict.keys()`) "
   ]
  },
  {
   "cell_type": "markdown",
   "metadata": {},
   "source": [
    "### 2.3. Delete `Texas` key from population."
   ]
  },
  {
   "cell_type": "code",
   "execution_count": 23,
   "metadata": {},
   "outputs": [],
   "source": [
    "# Your answer for 2.3. (Hint: Use `del(dict['key'])`)"
   ]
  },
  {
   "cell_type": "code",
   "execution_count": 24,
   "metadata": {},
   "outputs": [
    {
     "name": "stdout",
     "output_type": "stream",
     "text": [
      "{'California': 38.3, 'New York': 19.7, 'Florida': 19.6, 'Illinois': 12.9, 'Singapore': 5.6}\n"
     ]
    }
   ],
   "source": [
    "print(population)"
   ]
  }
 ],
 "metadata": {
  "kernelspec": {
   "display_name": "Python 3",
   "language": "python",
   "name": "python3"
  },
  "language_info": {
   "codemirror_mode": {
    "name": "ipython",
    "version": 3
   },
   "file_extension": ".py",
   "mimetype": "text/x-python",
   "name": "python",
   "nbconvert_exporter": "python",
   "pygments_lexer": "ipython3",
   "version": "3.7.3"
  }
 },
 "nbformat": 4,
 "nbformat_minor": 2
}
